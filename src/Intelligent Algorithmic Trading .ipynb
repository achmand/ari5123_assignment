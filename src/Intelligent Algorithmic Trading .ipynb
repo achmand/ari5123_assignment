{
 "cells": [
  {
   "cell_type": "markdown",
   "metadata": {},
   "source": [
    "### Intelligent Algorithmic Trading\n",
    "# Paper Title\n",
    "\n",
    "<hr>\n",
    "For further details visit our GitHub Repository: \n",
    "\n",
    "### Table of Contents"
   ]
  },
  {
   "cell_type": "markdown",
   "metadata": {},
   "source": [
    "## Importing Dependencies "
   ]
  },
  {
   "cell_type": "code",
   "execution_count": 1,
   "metadata": {},
   "outputs": [],
   "source": [
    "# importing libraries  \n",
    "import pandas as pd\n",
    "from pathlib import Path\n",
    "import lucrum.datareader as ldr\n",
    "from collections import OrderedDict"
   ]
  },
  {
   "cell_type": "markdown",
   "metadata": {},
   "source": [
    "## Importing Cryptocurrencies Datasets "
   ]
  },
  {
   "cell_type": "code",
   "execution_count": 2,
   "metadata": {},
   "outputs": [
    {
     "name": "stdout",
     "output_type": "stream",
     "text": [
      "BTCUSDT file existed, retrieving data from file.\n",
      "ETHUSDT file existed, retrieving data from file.\n",
      "XRPUSDT file existed, retrieving data from file.\n",
      "LTCUSDT file existed, retrieving data from file.\n",
      "EOSUSDT file existed, retrieving data from file.\n",
      "XLMUSDT file existed, retrieving data from file.\n"
     ]
    }
   ],
   "source": [
    "# set parameters for importing datasets\n",
    "data_path = \"data/\"            # data is stored in data directory \n",
    "data_format = \".csv\"           # file is saved as .csv format\n",
    "data_source = \"binance\"        # Binance API will be used to download data\n",
    "data_interval = \"15m\"          # we will be fetching 15m interval data\n",
    "data_timezone = \"Europe/Malta\" # timezone used to convert the data timezone from source\n",
    "\n",
    "# currency pairs which will be investigated in this study\n",
    "# we will be investigating 6 different cryptocurrencies pairs \n",
    "# all of which are against USDT which is considered as a stable coin \n",
    "currency_pairs = [(\"BTCUSDT\", \"17 Aug, 2017\", \"1 Jun, 2019\"), # Bitcoin/Tether    17-08-2017 to 01-06-2019\n",
    "                  (\"ETHUSDT\", \"17 Aug, 2017\", \"1 Jun, 2019\"), # Ethereum/Tether   17-08-2017 to 01-06-2019\n",
    "                  (\"XRPUSDT\", \"4 May, 2018\", \"1 Jun, 2019\"), # Zerps/Tether       04-05-2018 to 01-06-2019\n",
    "                  (\"LTCUSDT\", \"13 Dec, 2017\", \"1 Jun, 2019\"), # Litcoin/Tether    13-12-2017 to 01-06-2019\n",
    "                  (\"EOSUSDT\", \"28 May, 2018\", \"1 Jun, 2019\"), # EOS/Tether        28-05-2018 to 01-06-2019\n",
    "                  (\"XLMUSDT\", \"31 May, 2018\", \"1 Jun, 2019\")] # Stellar/Tether    31-05-2018 to 01-06-2019\n",
    "\n",
    "# create an ordered dictionary to hold all the data\n",
    "pairs_dict = OrderedDict()\n",
    "\n",
    "# check if data exists as .csv, if not found in data path, download the 15m data from Binance API \n",
    "# a new module was created in the lucrum library to access API's such as Binance \n",
    "\n",
    "# loop in each pair \n",
    "for pair in currency_pairs:\n",
    "    \n",
    "    # get attributes from pair tuple \n",
    "    tmp_pair = pair[0]   # get pair\n",
    "    tmp_start = pair[1]  # get start date\n",
    "    tmp_end = pair[2]    # get end date \n",
    "    \n",
    "    # get path from the attributes in the tuple \n",
    "    tmp_path = \"{0}{1}{2}\".format(data_path, tmp_pair, data_format)\n",
    "    my_file = Path(tmp_path)\n",
    "    \n",
    "    # check if path exists \n",
    "    if my_file.is_file(): # file exists\n",
    "        print(\"{0} file existed, retrieving data from file.\".format(tmp_pair))\n",
    "    \n",
    "        # load data from path \n",
    "        price_history = pd.read_csv(tmp_path)\n",
    "        \n",
    "        # add the dataframe to the dictionary\n",
    "        pairs_dict[tmp_pair] = price_history\n",
    "        \n",
    "    else: # file does not exist, download data from Binance API\n",
    "        print(\"{0} file does not exist, downloading from {1}.\".format(tmp_pair, data_source))\n",
    "        \n",
    "        # download from source provided, with the details provided\n",
    "        price_history = ldr.get_data(source=data_source,\n",
    "                                     symbols=tmp_pair,\n",
    "                                     start=tmp_start, \n",
    "                                     end=tmp_end,\n",
    "                                     interval=data_interval,\n",
    "                                     timezone=data_timezone)\n",
    "        \n",
    "        # save the dataframe as csv file to the path \n",
    "        price_history.to_csv(tmp_path, \n",
    "                             index=None, \n",
    "                             header=True)\n",
    "        \n",
    "        # add the dataframe to the dictionary\n",
    "        pairs_dict[tmp_pair] = price_history"
   ]
  }
 ],
 "metadata": {
  "kernelspec": {
   "display_name": "Python [conda env:ari5123] *",
   "language": "python",
   "name": "conda-env-ari5123-py"
  },
  "language_info": {
   "codemirror_mode": {
    "name": "ipython",
    "version": 3
   },
   "file_extension": ".py",
   "mimetype": "text/x-python",
   "name": "python",
   "nbconvert_exporter": "python",
   "pygments_lexer": "ipython3",
   "version": "3.7.3"
  }
 },
 "nbformat": 4,
 "nbformat_minor": 2
}
