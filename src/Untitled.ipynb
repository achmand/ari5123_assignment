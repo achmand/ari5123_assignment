{
 "cells": [
  {
   "cell_type": "code",
   "execution_count": 51,
   "metadata": {},
   "outputs": [],
   "source": [
    "import numpy as np \n",
    "from sklearn.datasets import load_iris"
   ]
  },
  {
   "cell_type": "code",
   "execution_count": 52,
   "metadata": {},
   "outputs": [],
   "source": [
    "# w = np.array([[0.1, 0.5], [-.3, .8]])\n",
    "# x = np.array([0.2, 0.4])\n",
    "# wx = w.dot(x)\n",
    "# f = np.sum(wx ** 2)\n",
    "# dwx = wx * 2\n",
    "\n",
    "# dfdw = (w * 2).T * dwx\n",
    "# print(dfdw)\n",
    "\n",
    "# dfdx = (2 * dwx) * x\n",
    "# print(dfdx)"
   ]
  },
  {
   "cell_type": "code",
   "execution_count": 49,
   "metadata": {},
   "outputs": [],
   "source": [
    "class SoftMaxReg():\n",
    "    \n",
    "    def fit(X, y):\n",
    "        \n",
    "        print(\"Fitting\")\n",
    "        \n",
    "    def predict():\n",
    "        print(\"Predicting\")\n",
    "        "
   ]
  },
  {
   "cell_type": "code",
   "execution_count": 50,
   "metadata": {},
   "outputs": [],
   "source": [
    "softMaxReg = SoftMaxReg()"
   ]
  },
  {
   "cell_type": "code",
   "execution_count": null,
   "metadata": {},
   "outputs": [],
   "source": [
    "X = np.array([.4, .3], [.7, .5], )"
   ]
  }
 ],
 "metadata": {
  "kernelspec": {
   "display_name": "Python [conda env:ari5123] *",
   "language": "python",
   "name": "conda-env-ari5123-py"
  },
  "language_info": {
   "codemirror_mode": {
    "name": "ipython",
    "version": 3
   },
   "file_extension": ".py",
   "mimetype": "text/x-python",
   "name": "python",
   "nbconvert_exporter": "python",
   "pygments_lexer": "ipython3",
   "version": "3.7.3"
  }
 },
 "nbformat": 4,
 "nbformat_minor": 2
}
